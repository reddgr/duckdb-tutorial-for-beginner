{
  "nbformat": 4,
  "nbformat_minor": 0,
  "metadata": {
    "colab": {
      "provenance": []
    },
    "kernelspec": {
      "name": "python3",
      "display_name": "Python 3"
    },
    "language_info": {
      "name": "python"
    }
  },
  "cells": [
    {
      "cell_type": "code",
      "source": [
        "# Prepare DuckDB connection\n",
        "import duckdb\n",
        "conn = duckdb.connect()"
      ],
      "metadata": {
        "id": "L6cOtqtC1GaO"
      },
      "execution_count": null,
      "outputs": []
    },
    {
      "cell_type": "code",
      "source": [
        "# Run your first query\n",
        "conn.sql(\"SELECT 'mandarin' as duck\")"
      ],
      "metadata": {
        "id": "Y8ksh52rFeEw"
      },
      "execution_count": null,
      "outputs": []
    },
    {
      "cell_type": "code",
      "source": [
        "# Query public bucket on a Parquet file\n",
        "conn.sql(\"FROM read_parquet('s3://us-prd-motherduck-open-datasets/hacker_news/parquet/hacker_news_2021_2022.parquet') limit 5\")\n"
      ],
      "metadata": {
        "id": "8It4t3plFnOm"
      },
      "execution_count": null,
      "outputs": []
    },
    {
      "cell_type": "code",
      "source": [
        "# Display install/loaded extensions\n",
        "conn.sql(\"FROM duckdb_extensions();\")"
      ],
      "metadata": {
        "id": "Tq9SDUGDFrcJ"
      },
      "execution_count": null,
      "outputs": []
    },
    {
      "cell_type": "code",
      "source": [
        "# Install manually extensions\n",
        "conn.sql(\"INSTALL spatial;\")\n",
        "conn.sql(\"LOAD spatial;\")"
      ],
      "metadata": {
        "id": "ZZTk34tJFxtA"
      },
      "execution_count": null,
      "outputs": []
    },
    {
      "cell_type": "code",
      "source": [
        "# Create a DuckDB tables based on a SELECT query\n",
        "conn.sql(\"CREATE TABLE hacker_news_sample AS SELECT * FROM 's3://us-prd-motherduck-open-datasets/hacker_news/parquet/hacker_news_2021_2022.parquet' limit 5;\")\n"
      ],
      "metadata": {
        "id": "C8d6hSiOF4Bb"
      },
      "execution_count": null,
      "outputs": []
    },
    {
      "cell_type": "code",
      "source": [
        "# Display all tables\n",
        "conn.sql(\"SHOW ALL TABLES\")"
      ],
      "metadata": {
        "id": "nnQom21hF8Vw"
      },
      "execution_count": null,
      "outputs": []
    },
    {
      "cell_type": "code",
      "source": [
        "# Use FROM first statement to directly query a table\n",
        "conn.sql(\"FROM hacker_news_sample;\")"
      ],
      "metadata": {
        "id": "ynqLXAOQGBmq"
      },
      "execution_count": null,
      "outputs": []
    },
    {
      "cell_type": "code",
      "source": [
        "# Persist data by creating or attaching if exists a database\n",
        "conn.sql(\"ATTACH 'my_hacker_news_stats.ddb';\")\n",
        "conn.sql(\"USE my_hacker_news_stats;\")\n",
        "\n",
        "# Create a larger table (10GB) in DuckDB\n",
        "conn.sql(\"CREATE TABLE hacker_news_full AS SELECT * FROM 's3://us-prd-motherduck-open-datasets/hacker_news/parquet/hacker_news_2016_2025.zstd.parquet';\")\n",
        "\n",
        "# Display count\n",
        "conn.sql(\"SELECT COUNT(*) from hacker_news_full;\")"
      ],
      "metadata": {
        "id": "YnVW9znBGHqW"
      },
      "execution_count": null,
      "outputs": []
    },
    {
      "cell_type": "code",
      "source": [
        "conn.sql(\"ATTACH 'hacker_news_stats';\")\n",
        "\n",
        "# Compute the top domains shared\n",
        "conn.sql(\"\"\"CREATE TABLE hacker_news_stats.top_domains as (SELECT\n",
        "    regexp_extract(url, 'http[s]?://([^/]+)/', 1) AS domain,\n",
        "    count(*) AS count\n",
        "FROM hacker_news_full\n",
        "WHERE url IS NOT NULL AND regexp_extract(url, 'http[s]?://([^/]+)/', 1) != ''\n",
        "GROUP BY domain\n",
        "ORDER BY count DESC\n",
        "LIMIT 20\n",
        ");\"\"\")\n"
      ],
      "metadata": {
        "id": "_R4-zOIKGepu"
      },
      "execution_count": null,
      "outputs": []
    },
    {
      "cell_type": "code",
      "source": [
        "# Compute the mentions of DuckDB per month\n",
        "conn.sql(\"\"\"CREATE TABLE hacker_news_stats.duckdb_mentions AS (\n",
        "SELECT\n",
        "    YEAR(timestamp) AS year,\n",
        "    MONTH(timestamp) AS month,\n",
        "    COUNT(*) AS keyword_mentions\n",
        "FROM hacker_news_full\n",
        "WHERE\n",
        "    (title LIKE '%duckdb%' OR text LIKE '%duckdb%')\n",
        "GROUP BY year, month\n",
        "ORDER BY year ASC, month ASC);\"\"\")"
      ],
      "metadata": {
        "id": "U-rWDh6lGnZe"
      },
      "execution_count": null,
      "outputs": []
    },
    {
      "cell_type": "code",
      "source": [
        "# Export data to CSV using the COPY command\n",
        "conn.sql(\"COPY (SELECT * FROM hacker_news_stats.top_domains) TO 'top_domains.csv'\")"
      ],
      "metadata": {
        "id": "VJHpsvoqGdHY"
      },
      "execution_count": null,
      "outputs": []
    },
    {
      "cell_type": "code",
      "source": [
        "# Create AWS secret based on sso chain (assuming you did `aws sso login before`)\n",
        "conn.sql(\"\"\"CREATE PERSISTENT SECRET aws_secret (\n",
        "    TYPE S3,\n",
        "    PROVIDER CREDENTIAL_CHAIN\n",
        ");\"\"\")\n"
      ],
      "metadata": {
        "id": "jIrl4QTiG-jn"
      },
      "execution_count": null,
      "outputs": []
    },
    {
      "cell_type": "code",
      "source": [
        "# Display which secrets has been created\n",
        "conn.sql(\"FROM duckdb_secrets();\")"
      ],
      "metadata": {
        "id": "KACJMvgEHEQa"
      },
      "execution_count": null,
      "outputs": []
    },
    {
      "cell_type": "markdown",
      "source": [
        "### Query with MotherDuck"
      ],
      "metadata": {
        "id": "TxtOOY905TG5"
      }
    },
    {
      "cell_type": "code",
      "source": [
        "# Sign-up for free at motherduck.com and get your access token through the UI https://motherduck.com/docs/getting-started/sample-data-queries/hacker-news/\n",
        "# Get motherduck_token stored in the notebook\n",
        "from google.colab import userdata\n",
        "import os\n",
        "os.environ[\"motherduck_token\"] = userdata.get('motherduck_token')"
      ],
      "metadata": {
        "id": "lxgN5xyKHkva"
      },
      "execution_count": null,
      "outputs": []
    },
    {
      "cell_type": "code",
      "source": [
        "# Connect to MotherDuck\n",
        "conn.sql(\"ATTACH 'md:'\")"
      ],
      "metadata": {
        "id": "avezqm8wTuW9"
      },
      "execution_count": null,
      "outputs": []
    },
    {
      "cell_type": "code",
      "source": [
        "# Show your cloud databases\n",
        "conn.sql('SHOW DATABASES')"
      ],
      "metadata": {
        "id": "zBsYylF1ukLU"
      },
      "execution_count": null,
      "outputs": []
    },
    {
      "cell_type": "code",
      "source": [
        "# Showing the query planner, explaining where things are being run (local/remote)\n",
        "conn.sql(\"\"\"EXPLAIN SELECT\n",
        "    regexp_extract(url, 'http[s]?://([^/]+)/', 1) AS domain,\n",
        "    count(*) AS count\n",
        "FROM sample_data.hn.hacker_news\n",
        "WHERE url IS NOT NULL AND regexp_extract(url, 'http[s]?://([^/]+)/', 1) != ''\n",
        "GROUP BY domain\n",
        "ORDER BY count DESC\n",
        "LIMIT 20;\"\"\")\n",
        "\n",
        "# Create a Cloud database\n",
        "conn.sql(\"CREATE DATABASE cloud_hacker_news_stats;\")\n",
        "\n",
        "# Move a local DuckDB table to MotherDuck\n",
        "conn.sql(\"CREATE TABLE cloud_hacker_news_stats.top_domains AS SELECT * FROM hacker_news_stats.top_domains;\")\n",
        "\n",
        "# Create a database share\n",
        "conn.sql(\"CREATE SHARE my_share FROM cloud_hacker_news_stats;\")\n",
        "\n",
        "# Create a secret in MotherDuck\n",
        "conn.sql(\"\"\"CREATE SECRET aws_secret IN MOTHERDUCK (\n",
        "    TYPE S3,\n",
        "    PROVIDER CREDENTIAL_CHAIN\n",
        ");\"\"\")"
      ],
      "metadata": {
        "id": "i6OWLuQTHPC9"
      },
      "execution_count": null,
      "outputs": []
    },
    {
      "cell_type": "code",
      "source": [
        "# Running this while connected to MotherDuck to leverage cloud compute & network bandwith\n",
        "conn.sql(\"\"\"SELECT\n",
        "    regexp_extract(url, 'http[s]?://([^/]+)/', 1) AS domain,\n",
        "    count(*) AS count\n",
        "FROM 's3://us-prd-motherduck-open-datasets/hacker_news/parquet/hacker_news_2016_2025.zstd.parquet'\n",
        "WHERE url IS NOT NULL AND regexp_extract(url, 'http[s]?://([^/]+)/', 1) != ''\n",
        "GROUP BY domain\n",
        "ORDER BY count DESC\n",
        "LIMIT 20;\"\"\")"
      ],
      "metadata": {
        "id": "JoOHwxWxHunl"
      },
      "execution_count": null,
      "outputs": []
    }
  ]
}